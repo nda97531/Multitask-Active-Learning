{
 "cells": [
  {
   "cell_type": "code",
   "execution_count": 1,
   "metadata": {
    "colab": {
     "base_uri": "https://localhost:8080/"
    },
    "executionInfo": {
     "elapsed": 1471,
     "status": "ok",
     "timestamp": 1617469444426,
     "user": {
      "displayName": "Đức Anh Nguyễn",
      "photoUrl": "https://lh3.googleusercontent.com/a-/AOh14Gj__uwgJPnV_bbazx9cfsZZmzMDKRMuz1IsbXR7Sw=s64",
      "userId": "05901412776980253231"
     },
     "user_tz": -420
    },
    "id": "BlLpGdHmOF_c",
    "outputId": "c5ed9636-ccc3-4043-d48a-f0454f2aa7c8"
   },
   "outputs": [],
   "source": [
    "import os\n",
    "os.chdir('../')\n",
    "import numpy as np\n",
    "from MAT import DEVICE\n",
    "from MAT.augment import numpy_augment\n",
    "from MAT.dataset.data_generator import DatasetWindowsFusion\n",
    "from MAT.models.model_tcn_classifier import TCN\n",
    "from MAT.common.train import mat_train\n",
    "from MAT import logger"
   ]
  },
  {
   "cell_type": "markdown",
   "metadata": {},
   "source": [
    "## hyper-parameters"
   ]
  },
  {
   "cell_type": "code",
   "execution_count": 2,
   "metadata": {},
   "outputs": [],
   "source": [
    "gamma = 1.0"
   ]
  },
  {
   "cell_type": "markdown",
   "metadata": {
    "executionInfo": {
     "elapsed": 376952,
     "status": "ok",
     "timestamp": 1617469819926,
     "user": {
      "displayName": "Đức Anh Nguyễn",
      "photoUrl": "https://lh3.googleusercontent.com/a-/AOh14Gj__uwgJPnV_bbazx9cfsZZmzMDKRMuz1IsbXR7Sw=s64",
      "userId": "05901412776980253231"
     },
     "user_tz": -420
    },
    "id": "82u4l-j35aZm"
   },
   "source": [
    "## load target data"
   ]
  },
  {
   "cell_type": "code",
   "execution_count": 3,
   "metadata": {},
   "outputs": [
    {
     "name": "stdout",
     "output_type": "stream",
     "text": [
      "2021-09-29 00:29:51,794 [INFO ] 3281918625 <module>   Target train data: (4626, 300, 6)\n",
      "2021-09-29 00:29:51,795 [INFO ] 3281918625 <module>   Target train label: (4626, 1)\n",
      "2021-09-29 00:29:51,795 [INFO ] 3281918625 <module>   Target valid data: (22936, 300, 6)\n",
      "2021-09-29 00:29:51,795 [INFO ] 3281918625 <module>   Target valid label: (22936, 1)\n"
     ]
    }
   ],
   "source": [
    "target_data_folder = f'../Dataset/MotionSense'\n",
    "\n",
    "# data: array shape [num windows, window length, num channels]\n",
    "target_data = np.load(os.path.join(target_data_folder, \"data_new_map.npy\"))\n",
    "# label: array shape [num windows, 2(subject id, categorical label)]\n",
    "target_label = np.load(os.path.join(target_data_folder, \"p_lb_new_map.npy\"))\n",
    "\n",
    "# get training window indices by subject IDs\n",
    "train_subjects = np.unique(np.linspace(1, 24, 4, False).astype(int))\n",
    "train_window_idx = np.isin(target_label[:, 0], train_subjects)\n",
    "\n",
    "# split dataset into train set and test set, remove subject IDs from label array\n",
    "# data: array shape [num windows, window length, num channels]\n",
    "# label: array shape [num windows, 1(categorical label)]\n",
    "target_train_data = target_data[train_window_idx]\n",
    "target_train_label = target_label[train_window_idx, 1:]\n",
    "target_valid_data = target_data[~train_window_idx]\n",
    "target_valid_label = target_label[~train_window_idx, 1:]\n",
    "\n",
    "logger.info(f\"Target train data: {target_train_data.shape}\")\n",
    "logger.info(f\"Target train label: {target_train_label.shape}\")\n",
    "logger.info(f\"Target valid data: {target_valid_data.shape}\")\n",
    "logger.info(f\"Target valid label: {target_valid_label.shape}\")"
   ]
  },
  {
   "cell_type": "markdown",
   "metadata": {},
   "source": [
    "## load source data"
   ]
  },
  {
   "cell_type": "code",
   "execution_count": 4,
   "metadata": {},
   "outputs": [
    {
     "name": "stdout",
     "output_type": "stream",
     "text": [
      "2021-09-29 00:29:52,080 [INFO ] 706849133  <module>   Source data: (11164, 300, 6)\n",
      "2021-09-29 00:29:52,080 [INFO ] 706849133  <module>   Source label: (11164, 1)\n"
     ]
    }
   ],
   "source": [
    "source_data_folder = '../Dataset/MobiActV2'\n",
    "\n",
    "# indices of selected instances\n",
    "pick_index = np.load(os.path.join(source_data_folder, 'mobiactv2_r2_pick_index_one-tenth.npy'))\n",
    "# data: array shape [num windows, window length, num channels]\n",
    "source_data = np.load(os.path.join(source_data_folder, \"data_new.npy\"))[pick_index]\n",
    "# label: array shape [num windows, 2(subject id, categorical label)]\n",
    "source_label = np.load(os.path.join(source_data_folder, \"p_lb_new.npy\"))[pick_index]\n",
    "# only keep label column => shape [num windows, 1(categorical label)]\n",
    "source_label = source_label[:, 1:]\n",
    "\n",
    "logger.info(f\"Source data: {source_data.shape}\")\n",
    "logger.info(f\"Source label: {source_label.shape}\")"
   ]
  },
  {
   "cell_type": "markdown",
   "metadata": {},
   "source": [
    "## set weight and mask for each instance of source/target set"
   ]
  },
  {
   "cell_type": "code",
   "execution_count": 5,
   "metadata": {},
   "outputs": [],
   "source": [
    "# set weight and mask placeholder for instances from target domain\n",
    "# array shape [num windows, 3(label, weight, mask)]\n",
    "target_train_label = np.concatenate([\n",
    "    target_train_label,\n",
    "    np.empty([len(target_train_label), 2])\n",
    "], axis=1)\n",
    "\n",
    "# set weight and mask placeholder for instances from source domain\n",
    "# array shape [num windows, 3(label, weight, mask)]\n",
    "source_label = np.concatenate([\n",
    "    source_label,\n",
    "    np.empty([len(source_label), 2])\n",
    "], axis=1)\n",
    "\n",
    "# calculate source and target weights\n",
    "total_train_set_len = len(target_train_label) + len(source_label)\n",
    "source_weight = total_train_set_len / len(source_label)\n",
    "target_weight = (total_train_set_len / len(target_train_label)) * gamma\n",
    "# set sample weight for source and target sets\n",
    "source_label[:, 1] = source_weight\n",
    "target_train_label[:, 1] = target_weight\n",
    "\n",
    "# set multi-task mask\n",
    "source_label[:, 2] = 0  # source mask\n",
    "target_train_label[:, 2] = 1  # target mask"
   ]
  },
  {
   "cell_type": "markdown",
   "metadata": {},
   "source": [
    "## init dataset loader with augmentation"
   ]
  },
  {
   "cell_type": "code",
   "execution_count": 6,
   "metadata": {},
   "outputs": [
    {
     "name": "stdout",
     "output_type": "stream",
     "text": [
      "2021-09-29 00:29:52,112 [INFO ] 1811352841 <module>   Total train data: (15790, 300, 6)\n",
      "2021-09-29 00:29:52,113 [INFO ] 1811352841 <module>   Total train label: (15790, 3)\n",
      "2021-09-29 00:29:52,113 [INFO ] 1811352841 <module>   Train set size: 15790\n",
      "2021-09-29 00:29:52,113 [INFO ] 1811352841 <module>   Valid set size: 22936\n"
     ]
    }
   ],
   "source": [
    "# combine target and source train sets into 1\n",
    "# data array shape [num windows, window length, num channels]\n",
    "train_data = np.concatenate([target_train_data, source_data])\n",
    "# label array shape [num windows, 3(label, weight, mask)]\n",
    "train_label = np.concatenate([target_train_label, source_label])\n",
    "\n",
    "# create Dataset object (split data into list of 2 modalities)\n",
    "train_set = DatasetWindowsFusion(\n",
    "    [train_data[:, :, :3], train_data[:, :, 3:]],\n",
    "    train_label,\n",
    "    augment_rate=0.5,\n",
    "    augmenter=numpy_augment.Rotate(input_shape=[300, 3],\n",
    "                                   rotate_x_range=[0., 20.],\n",
    "                                   rotate_y_range=[0., 20.],\n",
    "                                   rotate_z_range=[0., 20.])\n",
    ")\n",
    "valid_set = DatasetWindowsFusion(\n",
    "    [target_valid_data[:, :, :3], target_valid_data[:, :, 3:]],\n",
    "    target_valid_label\n",
    ")\n",
    "\n",
    "logger.info(f\"Total train data: {train_data.shape}\")\n",
    "logger.info(f\"Total train label: {train_label.shape}\")\n",
    "logger.info(f\"Train set size: {len(train_set)}\")\n",
    "logger.info(f\"Valid set size: {len(valid_set)}\")"
   ]
  },
  {
   "cell_type": "markdown",
   "metadata": {},
   "source": [
    "## init model"
   ]
  },
  {
   "cell_type": "code",
   "execution_count": 7,
   "metadata": {},
   "outputs": [
    {
     "name": "stdout",
     "output_type": "stream",
     "text": [
      "2021-09-29 00:29:52,144 [INFO ] 2236640326 <module>   Number of source classes: 16\n",
      "2021-09-29 00:29:52,145 [INFO ] 2236640326 <module>   Number of target classes: 6\n"
     ]
    }
   ],
   "source": [
    "# get number of classes in source/target dataset\n",
    "n_class_source = len(np.unique(source_label[:, 0]))\n",
    "n_class_target = len(np.unique(target_train_label[:, 0]))\n",
    "\n",
    "# init model object\n",
    "model = TCN(\n",
    "    n_classes=[n_class_source, n_class_target],\n",
    "    how_flatten=\"spatial attention gap\",\n",
    "    n_tcn_channels=(64,) * 6 + (128,) * 2,\n",
    "    tcn_kernel_size=2,\n",
    "    dilation_base=2,\n",
    "    tcn_droprate=0.2,\n",
    "    use_spatial_dropout=False,\n",
    "    n_fc_layers=1,\n",
    "    fc_droprate=0.5,\n",
    "    use_init_batchnorm=True\n",
    ").to(DEVICE)\n",
    "\n",
    "logger.info(f\"Number of source classes: {n_class_source}\")\n",
    "logger.info(f\"Number of target classes: {n_class_target}\")"
   ]
  },
  {
   "cell_type": "markdown",
   "metadata": {},
   "source": [
    "## train"
   ]
  },
  {
   "cell_type": "code",
   "execution_count": 8,
   "metadata": {},
   "outputs": [],
   "source": [
    "mat_train(\n",
    "    model,\n",
    "    train_set=train_set,\n",
    "    valid_set=valid_set,\n",
    "    weights_save_name=\"param/demo/mat_motionsense\",\n",
    "    only_save_best_of_best=True,\n",
    "    save_before_early_stop=False,\n",
    "    curve_save_name=None,\n",
    "    learning_rate=1e-3,\n",
    "    weight_decay=0.,\n",
    "    batch_size=32,\n",
    "    max_epoch=100,\n",
    "    class_weight=None,\n",
    "    patience=10\n",
    ")"
   ]
  }
 ],
 "metadata": {
  "accelerator": "GPU",
  "colab": {
   "authorship_tag": "ABX9TyO7p802Nkx9+SC8DoP9+AZv",
   "collapsed_sections": [],
   "name": "r1_train_6_valid_30_auto_weight.ipynb",
   "provenance": []
  },
  "kernelspec": {
   "display_name": "Python 3 (ipykernel)",
   "language": "python",
   "name": "python3"
  },
  "language_info": {
   "codemirror_mode": {
    "name": "ipython",
    "version": 3
   },
   "file_extension": ".py",
   "mimetype": "text/x-python",
   "name": "python",
   "nbconvert_exporter": "python",
   "pygments_lexer": "ipython3",
   "version": "3.9.5"
  }
 },
 "nbformat": 4,
 "nbformat_minor": 4
}
