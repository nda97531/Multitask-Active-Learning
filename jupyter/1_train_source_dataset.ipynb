{
 "cells": [
  {
   "cell_type": "code",
   "execution_count": 1,
   "id": "f6696d0f-3000-4c9b-a410-71ba59460bc7",
   "metadata": {},
   "outputs": [],
   "source": [
    "import os\n",
    "os.chdir('../')\n",
    "import numpy as np\n",
    "import torch as tr\n",
    "import torch.utils.data as tr_data\n",
    "from MAT import DEVICE\n",
    "from MAT.augment import numpy_augment\n",
    "from MAT.dataset.data_generator import DatasetWindowsFusion\n",
    "from MAT.models.model_tcn_classifier import TCN\n",
    "from MAT.common.train import train\n",
    "from MAT import logger"
   ]
  },
  {
   "cell_type": "markdown",
   "id": "b1c32d4f-8c79-4f12-85a8-fb23bbefb8f6",
   "metadata": {},
   "source": [
    "## hyper-parameters"
   ]
  },
  {
   "cell_type": "code",
   "execution_count": 2,
   "id": "d0aa019f-1f56-45e9-a3d9-c44a4811d3fd",
   "metadata": {},
   "outputs": [],
   "source": [
    "train_data_fraction = 20"
   ]
  },
  {
   "cell_type": "markdown",
   "id": "1517ffd6-9713-4221-b761-e17798568da9",
   "metadata": {},
   "source": [
    "## load data and label, randomly select the first subset"
   ]
  },
  {
   "cell_type": "code",
   "execution_count": 3,
   "id": "71ce2b85-ecc0-4a24-bd02-bcedd77d8210",
   "metadata": {},
   "outputs": [
    {
     "name": "stdout",
     "output_type": "stream",
     "text": [
      "2021-10-03 17:16:29,386 [INFO ] 2573394594 <module>   num class: 16\n",
      "2021-10-03 17:16:29,431 [INFO ] 2573394594 <module>   train data: (5582, 300, 6), float32\n",
      "2021-10-03 17:16:29,432 [INFO ] 2573394594 <module>   train label: (5582,), int64\n",
      "2021-10-03 17:16:29,432 [INFO ] 2573394594 <module>   valid data: (111649, 300, 6), float32\n",
      "2021-10-03 17:16:29,433 [INFO ] 2573394594 <module>   valid label: (111649,), int64\n"
     ]
    }
   ],
   "source": [
    "# data, array shape: [num window, window length, channel]\n",
    "data = np.load(\"../Dataset/MobiActV2/data_new.npy\")\n",
    "# label, array shape: [num window,]\n",
    "label = np.load(\"../Dataset/MobiActV2/p_lb_new.npy\")[:, 1]\n",
    "\n",
    "valid_data = np.copy(data)\n",
    "valid_label = np.copy(label)\n",
    "\n",
    "n_classes = len(np.unique(label))\n",
    "logger.info(f'num class: {n_classes}')\n",
    "\n",
    "# generate random indices for a subset\n",
    "half_subset_size = len(random_index)//train_data_fraction\n",
    "random_index = np.random.permutation(np.arange(len(data)))\n",
    "remaining_index = random_index[half_subset_size:]\n",
    "random_index = random_index[:half_subset_size]\n",
    "\n",
    "# keep only a subset as train set\n",
    "train_data = data[random_index]\n",
    "train_label = label[random_index]\n",
    "\n",
    "del data\n",
    "del label\n",
    "\n",
    "logger.info(f\"train data: {train_data.shape}, {train_data.dtype}\")\n",
    "logger.info(f\"train label: {train_label.shape}, {train_label.dtype}\")\n",
    "\n",
    "logger.info(f\"valid data: {valid_data.shape}, {valid_data.dtype}\")\n",
    "logger.info(f\"valid label: {valid_label.shape}, {valid_label.dtype}\")"
   ]
  },
  {
   "cell_type": "markdown",
   "id": "3361c886-1bd2-4d32-9050-60f094a1a859",
   "metadata": {},
   "source": [
    "## init dataset loader with augmentation"
   ]
  },
  {
   "cell_type": "code",
   "execution_count": 4,
   "id": "f332f738-4244-4332-bb21-c18f51c2eacd",
   "metadata": {},
   "outputs": [
    {
     "name": "stdout",
     "output_type": "stream",
     "text": [
      "2021-10-03 17:16:29,439 [INFO ] 511878823  <module>   train set: 5582\n",
      "2021-10-03 17:16:29,440 [INFO ] 511878823  <module>   valid set: 111649\n"
     ]
    }
   ],
   "source": [
    "# create Dataset object (split data into list of 2 modalities)\n",
    "train_set = DatasetWindowsFusion(\n",
    "    [train_data[:, :, :3], train_data[:, :, 3:]],\n",
    "    train_label,\n",
    "    augment_rate=0.5,\n",
    "    augmenter=numpy_augment.Rotate(input_shape=[300, 3],\n",
    "                                   rotate_x_range=[0., 20.],\n",
    "                                   rotate_y_range=[0., 20.],\n",
    "                                   rotate_z_range=[0., 20.])\n",
    ")\n",
    "valid_set = DatasetWindowsFusion(\n",
    "    [valid_data[:, :, :3], valid_data[:, :, 3:]],\n",
    "    valid_label\n",
    ")\n",
    "\n",
    "logger.info(f\"train set: {len(train_set)}\")\n",
    "logger.info(f\"valid set: {len(valid_set)}\")"
   ]
  },
  {
   "cell_type": "markdown",
   "id": "e5360ba3-9b54-4f59-b360-aa284f7c8af7",
   "metadata": {},
   "source": [
    "## init model"
   ]
  },
  {
   "cell_type": "code",
   "execution_count": 5,
   "id": "cd9ca4a7-8fed-40db-9159-25d098ccdbf9",
   "metadata": {},
   "outputs": [],
   "source": [
    "model = TCN(\n",
    "    n_classes=n_classes,\n",
    "    how_flatten=\"spatial attention gap\",\n",
    "    n_tcn_channels=(64,) * 6 + (128,) * 2,\n",
    "    tcn_kernel_size=2,\n",
    "    dilation_base=2,\n",
    "    tcn_droprate=0.2,\n",
    "    use_spatial_dropout=False,\n",
    "    n_fc_layers=1,\n",
    "    fc_droprate=0.5,\n",
    "    use_init_batchnorm=True\n",
    ").to(DEVICE)"
   ]
  },
  {
   "cell_type": "markdown",
   "id": "7a1e5cee-88ad-404a-9878-1c8a59ee9259",
   "metadata": {},
   "source": [
    "## train first sub-set"
   ]
  },
  {
   "cell_type": "code",
   "execution_count": 6,
   "id": "7a5362a1-e738-4b03-a228-1eba837eb27f",
   "metadata": {},
   "outputs": [
    {
     "name": "stdout",
     "output_type": "stream",
     "text": [
      "test\n"
     ]
    }
   ],
   "source": [
    "train(\n",
    "    model,\n",
    "    train_set=train_set,\n",
    "    valid_set=valid_set,\n",
    "    weights_save_name=\"source_subset_weight\",\n",
    "    only_save_best_of_best=True,\n",
    "    save_before_early_stop=False,\n",
    "    curve_save_name=None,\n",
    "    learning_rate=1e-3,\n",
    "    weight_decay=0.,\n",
    "    batch_size=32,\n",
    "    max_epoch=100,\n",
    "    class_weight=None,\n",
    "    patience=10\n",
    ")"
   ]
  },
  {
   "cell_type": "markdown",
   "id": "9a2fad33-467d-43ce-b3ea-31a16c72e5b8",
   "metadata": {},
   "source": [
    "## make prediction on the remaining data"
   ]
  },
  {
   "cell_type": "code",
   "execution_count": null,
   "id": "c1d02950-b12f-4b58-a25e-d1828b77fed5",
   "metadata": {},
   "outputs": [],
   "source": [
    "# prepare data\n",
    "remaining_dataset = DatasetWindowsFusion(\n",
    "    [data[remaining_index, :, :3], data[remaining_index, :, 3:]],\n",
    "    label[remaining_index]\n",
    ")\n",
    "logger.info(f\"remaining data: {len(remaining_dataset)}\")\n",
    "remaining_data_loader = tr_data.DataLoader(remaining_dataset, batch_size=32, shuffle=False)\n",
    "\n",
    "# predict\n",
    "model = model.eval()\n",
    "scores = []\n",
    "with tr.no_grad():\n",
    "    for batch_data, batch_label in remaining_data_loader:\n",
    "        data = data.to(DEVICE)\n",
    "        # y_pred shape [num window, num class]\n",
    "        y_pred = model(data)\n",
    "        scores.append(y_pred)\n",
    "        \n",
    "    scores = tr.cat(scores).to(\"cpu\").numpy()\n",
    "logger.info(f\"prediction: {scores.shape}\")"
   ]
  },
  {
   "cell_type": "markdown",
   "id": "3864c32e-1cb9-4d87-a5ef-3b8a421e7250",
   "metadata": {},
   "source": [
    "## even selection"
   ]
  },
  {
   "cell_type": "code",
   "execution_count": null,
   "id": "ecd8e7ba-ee42-469f-b433-0abdb2c9e1db",
   "metadata": {},
   "outputs": [],
   "source": [
    "scores = scores.argmax(axis=1)\n",
    "remaining_index = remaining_index[scores.argsort()]\n",
    "\n",
    "even_index = np.linspace(\n",
    "    start=0,\n",
    "    stop=len(remaining_index),\n",
    "    num=half_subset_size,\n",
    "    dtype=int\n",
    ")\n",
    "selected_index = remaining_index[even_index]\n",
    "\n",
    "final_subset_index = np.concatenate([random_index, selected_index])\n",
    "np.save(\"mobiactv2_r2_pick_index_one-tenth.npy\", final_subset_index)"
   ]
  }
 ],
 "metadata": {
  "kernelspec": {
   "display_name": "Python 3 (ipykernel)",
   "language": "python",
   "name": "python3"
  },
  "language_info": {
   "codemirror_mode": {
    "name": "ipython",
    "version": 3
   },
   "file_extension": ".py",
   "mimetype": "text/x-python",
   "name": "python",
   "nbconvert_exporter": "python",
   "pygments_lexer": "ipython3",
   "version": "3.9.5"
  }
 },
 "nbformat": 4,
 "nbformat_minor": 5
}
